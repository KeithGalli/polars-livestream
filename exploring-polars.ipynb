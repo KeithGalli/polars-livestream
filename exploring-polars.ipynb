{
 "cells": [
  {
   "cell_type": "code",
   "execution_count": 2,
   "metadata": {},
   "outputs": [
    {
     "name": "stdout",
     "output_type": "stream",
     "text": [
      "Requirement already satisfied: polars in /opt/homebrew/lib/python3.11/site-packages (0.20.21)\n",
      "\n",
      "\u001b[1m[\u001b[0m\u001b[34;49mnotice\u001b[0m\u001b[1;39;49m]\u001b[0m\u001b[39;49m A new release of pip is available: \u001b[0m\u001b[31;49m24.0\u001b[0m\u001b[39;49m -> \u001b[0m\u001b[32;49m24.2\u001b[0m\n",
      "\u001b[1m[\u001b[0m\u001b[34;49mnotice\u001b[0m\u001b[1;39;49m]\u001b[0m\u001b[39;49m To update, run: \u001b[0m\u001b[32;49mpython3.11 -m pip install --upgrade pip\u001b[0m\n"
     ]
    }
   ],
   "source": [
    "!pip install polars\n"
   ]
  },
  {
   "cell_type": "code",
   "execution_count": 28,
   "metadata": {},
   "outputs": [],
   "source": [
    "import polars as pl"
   ]
  },
  {
   "cell_type": "code",
   "execution_count": 29,
   "metadata": {},
   "outputs": [
    {
     "data": {
      "text/html": [
       "<div><style>\n",
       ".dataframe > thead > tr,\n",
       ".dataframe > tbody > tr {\n",
       "  text-align: right;\n",
       "  white-space: pre-wrap;\n",
       "}\n",
       "</style>\n",
       "<small>shape: (3, 4)</small><table border=\"1\" class=\"dataframe\"><thead><tr><th>integer</th><th>date</th><th>float</th><th>string</th></tr><tr><td>i64</td><td>datetime[μs]</td><td>f64</td><td>str</td></tr></thead><tbody><tr><td>1</td><td>2025-01-01 00:00:00</td><td>4.0</td><td>&quot;a&quot;</td></tr><tr><td>2</td><td>2025-01-02 00:00:00</td><td>5.0</td><td>&quot;b&quot;</td></tr><tr><td>3</td><td>2025-01-03 00:00:00</td><td>6.0</td><td>&quot;c&quot;</td></tr></tbody></table></div>"
      ],
      "text/plain": [
       "shape: (3, 4)\n",
       "┌─────────┬─────────────────────┬───────┬────────┐\n",
       "│ integer ┆ date                ┆ float ┆ string │\n",
       "│ ---     ┆ ---                 ┆ ---   ┆ ---    │\n",
       "│ i64     ┆ datetime[μs]        ┆ f64   ┆ str    │\n",
       "╞═════════╪═════════════════════╪═══════╪════════╡\n",
       "│ 1       ┆ 2025-01-01 00:00:00 ┆ 4.0   ┆ a      │\n",
       "│ 2       ┆ 2025-01-02 00:00:00 ┆ 5.0   ┆ b      │\n",
       "│ 3       ┆ 2025-01-03 00:00:00 ┆ 6.0   ┆ c      │\n",
       "└─────────┴─────────────────────┴───────┴────────┘"
      ]
     },
     "metadata": {},
     "output_type": "display_data"
    }
   ],
   "source": [
    "from datetime import datetime\n",
    "\n",
    "df = pl.DataFrame(\n",
    "    {\n",
    "        \"integer\": [1, 2, 3],\n",
    "        \"date\": [\n",
    "            datetime(2025, 1, 1),\n",
    "            datetime(2025, 1, 2),\n",
    "            datetime(2025, 1, 3),\n",
    "        ],\n",
    "        \"float\": [4.0, 5.0, 6.0],\n",
    "        \"string\": [\"a\", \"b\", \"c\"],\n",
    "    }\n",
    ")\n",
    "\n",
    "display(df)\n"
   ]
  },
  {
   "cell_type": "code",
   "execution_count": 30,
   "metadata": {},
   "outputs": [
    {
     "name": "stdout",
     "output_type": "stream",
     "text": [
      "shape: (3, 4)\n",
      "┌─────────┬────────────────────────────┬───────┬────────┐\n",
      "│ integer ┆ date                       ┆ float ┆ string │\n",
      "│ ---     ┆ ---                        ┆ ---   ┆ ---    │\n",
      "│ i64     ┆ str                        ┆ f64   ┆ str    │\n",
      "╞═════════╪════════════════════════════╪═══════╪════════╡\n",
      "│ 1       ┆ 2025-01-01T00:00:00.000000 ┆ 4.0   ┆ a      │\n",
      "│ 2       ┆ 2025-01-02T00:00:00.000000 ┆ 5.0   ┆ b      │\n",
      "│ 3       ┆ 2025-01-03T00:00:00.000000 ┆ 6.0   ┆ c      │\n",
      "└─────────┴────────────────────────────┴───────┴────────┘\n"
     ]
    }
   ],
   "source": [
    "df.write_csv(\"data/output.csv\")\n",
    "df_csv = pl.read_csv(\"data/output.csv\")\n",
    "print(df_csv)"
   ]
  },
  {
   "cell_type": "code",
   "execution_count": 31,
   "metadata": {},
   "outputs": [],
   "source": [
    "pokemon = pl.read_csv('data/pokemon_data.csv')"
   ]
  },
  {
   "cell_type": "code",
   "execution_count": 32,
   "metadata": {},
   "outputs": [
    {
     "data": {
      "text/plain": [
       "12"
      ]
     },
     "execution_count": 32,
     "metadata": {},
     "output_type": "execute_result"
    }
   ],
   "source": [
    "len(pokemon.columns)"
   ]
  },
  {
   "cell_type": "code",
   "execution_count": 33,
   "metadata": {},
   "outputs": [
    {
     "name": "stdout",
     "output_type": "stream",
     "text": [
      "shape: (3, 12)\n",
      "┌─────┬───────────────────┬────────┬──────────┬───┬─────────┬───────┬────────────┬───────────┐\n",
      "│ #   ┆ Name              ┆ Type 1 ┆ Type 2   ┆ … ┆ Sp. Def ┆ Speed ┆ Generation ┆ Legendary │\n",
      "│ --- ┆ ---               ┆ ---    ┆ ---      ┆   ┆ ---     ┆ ---   ┆ ---        ┆ ---       │\n",
      "│ i64 ┆ str               ┆ str    ┆ str      ┆   ┆ i64     ┆ i64   ┆ i64        ┆ bool      │\n",
      "╞═════╪═══════════════════╪════════╪══════════╪═══╪═════════╪═══════╪════════════╪═══════════╡\n",
      "│ 492 ┆ ShayminLand Forme ┆ Grass  ┆ null     ┆ … ┆ 100     ┆ 100   ┆ 4          ┆ true      │\n",
      "│ 492 ┆ ShayminSky Forme  ┆ Grass  ┆ Flying   ┆ … ┆ 75      ┆ 127   ┆ 4          ┆ true      │\n",
      "│ 640 ┆ Virizion          ┆ Grass  ┆ Fighting ┆ … ┆ 129     ┆ 108   ┆ 5          ┆ true      │\n",
      "└─────┴───────────────────┴────────┴──────────┴───┴─────────┴───────┴────────────┴───────────┘\n"
     ]
    }
   ],
   "source": [
    "print(pokemon.filter(\n",
    "    (pl.col(\"Legendary\")) & (pl.col(\"Type 1\")==\"Grass\")\n",
    "))"
   ]
  },
  {
   "cell_type": "code",
   "execution_count": 34,
   "metadata": {},
   "outputs": [
    {
     "name": "stdout",
     "output_type": "stream",
     "text": [
      "shape: (5, 12)\n",
      "┌─────┬────────────────┬──────────┬────────┬───┬─────────┬───────┬────────────┬───────────┐\n",
      "│ #   ┆ Name           ┆ Type 1   ┆ Type 2 ┆ … ┆ Sp. Def ┆ Speed ┆ Generation ┆ Legendary │\n",
      "│ --- ┆ ---            ┆ ---      ┆ ---    ┆   ┆ ---     ┆ ---   ┆ ---        ┆ ---       │\n",
      "│ i64 ┆ str            ┆ str      ┆ str    ┆   ┆ i64     ┆ i64   ┆ i64        ┆ bool      │\n",
      "╞═════╪════════════════╪══════════╪════════╪═══╪═════════╪═══════╪════════════╪═══════════╡\n",
      "│ 519 ┆ Pidove         ┆ Normal   ┆ Flying ┆ … ┆ 30      ┆ 43    ┆ 5          ┆ false     │\n",
      "│ 676 ┆ Furfrou        ┆ Normal   ┆ null   ┆ … ┆ 90      ┆ 102   ┆ 6          ┆ false     │\n",
      "│ 479 ┆ RotomFan Rotom ┆ Electric ┆ Flying ┆ … ┆ 107     ┆ 86    ┆ 4          ┆ false     │\n",
      "│ 709 ┆ Trevenant      ┆ Ghost    ┆ Grass  ┆ … ┆ 82      ┆ 56    ┆ 6          ┆ false     │\n",
      "│ 485 ┆ Heatran        ┆ Fire     ┆ Steel  ┆ … ┆ 106     ┆ 77    ┆ 4          ┆ true      │\n",
      "└─────┴────────────────┴──────────┴────────┴───┴─────────┴───────┴────────────┴───────────┘\n"
     ]
    }
   ],
   "source": [
    "print(pokemon.sample(5))"
   ]
  },
  {
   "cell_type": "code",
   "execution_count": 35,
   "metadata": {},
   "outputs": [
    {
     "name": "stdout",
     "output_type": "stream",
     "text": [
      "shape: (5, 4)\n",
      "┌───────────┬────────────┬────────────┬───────┐\n",
      "│ Name      ┆ Average HP ┆ Max Attack ┆ Speed │\n",
      "│ ---       ┆ ---        ┆ ---        ┆ ---   │\n",
      "│ str       ┆ f64        ┆ i64        ┆ i64   │\n",
      "╞═══════════╪════════════╪════════════╪═══════╡\n",
      "│ Victini   ┆ 69.25875   ┆ 190        ┆ 35    │\n",
      "│ Mime Jr.  ┆ 69.25875   ┆ 190        ┆ 30    │\n",
      "│ Druddigon ┆ 69.25875   ┆ 190        ┆ 70    │\n",
      "│ Noibat    ┆ 69.25875   ┆ 190        ┆ 74    │\n",
      "│ Woobat    ┆ 69.25875   ┆ 190        ┆ 75    │\n",
      "└───────────┴────────────┴────────────┴───────┘\n"
     ]
    }
   ],
   "source": [
    "# pl.select (names sorted alphabetically, average HP, max Attack, speed)\n",
    "# pokemon.columns\n",
    "\n",
    "print(pokemon.select(\n",
    "    pl.col(\"Name\").sort(),\n",
    "    pl.col(\"HP\").mean().alias(\"Average HP\"), # Of all pokemon\n",
    "    pl.col(\"Attack\").max().alias(\"Max Attack\"), # Of all pokemon\n",
    "    pl.col(\"Speed\")\n",
    ").sample(5))\n"
   ]
  },
  {
   "cell_type": "code",
   "execution_count": 36,
   "metadata": {},
   "outputs": [
    {
     "data": {
      "text/html": [
       "<div><style>\n",
       ".dataframe > thead > tr,\n",
       ".dataframe > tbody > tr {\n",
       "  text-align: right;\n",
       "  white-space: pre-wrap;\n",
       "}\n",
       "</style>\n",
       "<small>shape: (6, 12)</small><table border=\"1\" class=\"dataframe\"><thead><tr><th>#</th><th>Name</th><th>Type 1</th><th>Type 2</th><th>HP</th><th>Attack</th><th>Defense</th><th>Sp. Atk</th><th>Sp. Def</th><th>Speed</th><th>Generation</th><th>Legendary</th></tr><tr><td>i64</td><td>str</td><td>str</td><td>str</td><td>i64</td><td>i64</td><td>i64</td><td>i64</td><td>i64</td><td>i64</td><td>i64</td><td>bool</td></tr></thead><tbody><tr><td>113</td><td>&quot;Chansey&quot;</td><td>&quot;Normal&quot;</td><td>null</td><td>250</td><td>5</td><td>5</td><td>35</td><td>105</td><td>50</td><td>1</td><td>false</td></tr><tr><td>143</td><td>&quot;Snorlax&quot;</td><td>&quot;Normal&quot;</td><td>null</td><td>160</td><td>110</td><td>65</td><td>65</td><td>110</td><td>30</td><td>1</td><td>false</td></tr><tr><td>202</td><td>&quot;Wobbuffet&quot;</td><td>&quot;Psychic&quot;</td><td>null</td><td>190</td><td>33</td><td>58</td><td>33</td><td>58</td><td>33</td><td>2</td><td>false</td></tr><tr><td>242</td><td>&quot;Blissey&quot;</td><td>&quot;Normal&quot;</td><td>null</td><td>255</td><td>10</td><td>10</td><td>75</td><td>135</td><td>55</td><td>2</td><td>false</td></tr><tr><td>321</td><td>&quot;Wailord&quot;</td><td>&quot;Water&quot;</td><td>null</td><td>170</td><td>90</td><td>45</td><td>90</td><td>45</td><td>60</td><td>3</td><td>false</td></tr><tr><td>594</td><td>&quot;Alomomola&quot;</td><td>&quot;Water&quot;</td><td>null</td><td>165</td><td>75</td><td>80</td><td>40</td><td>45</td><td>65</td><td>5</td><td>false</td></tr></tbody></table></div>"
      ],
      "text/plain": [
       "shape: (6, 12)\n",
       "┌─────┬───────────┬─────────┬────────┬───┬─────────┬───────┬────────────┬───────────┐\n",
       "│ #   ┆ Name      ┆ Type 1  ┆ Type 2 ┆ … ┆ Sp. Def ┆ Speed ┆ Generation ┆ Legendary │\n",
       "│ --- ┆ ---       ┆ ---     ┆ ---    ┆   ┆ ---     ┆ ---   ┆ ---        ┆ ---       │\n",
       "│ i64 ┆ str       ┆ str     ┆ str    ┆   ┆ i64     ┆ i64   ┆ i64        ┆ bool      │\n",
       "╞═════╪═══════════╪═════════╪════════╪═══╪═════════╪═══════╪════════════╪═══════════╡\n",
       "│ 113 ┆ Chansey   ┆ Normal  ┆ null   ┆ … ┆ 105     ┆ 50    ┆ 1          ┆ false     │\n",
       "│ 143 ┆ Snorlax   ┆ Normal  ┆ null   ┆ … ┆ 110     ┆ 30    ┆ 1          ┆ false     │\n",
       "│ 202 ┆ Wobbuffet ┆ Psychic ┆ null   ┆ … ┆ 58      ┆ 33    ┆ 2          ┆ false     │\n",
       "│ 242 ┆ Blissey   ┆ Normal  ┆ null   ┆ … ┆ 135     ┆ 55    ┆ 2          ┆ false     │\n",
       "│ 321 ┆ Wailord   ┆ Water   ┆ null   ┆ … ┆ 45      ┆ 60    ┆ 3          ┆ false     │\n",
       "│ 594 ┆ Alomomola ┆ Water   ┆ null   ┆ … ┆ 45      ┆ 65    ┆ 5          ┆ false     │\n",
       "└─────┴───────────┴─────────┴────────┴───┴─────────┴───────┴────────────┴───────────┘"
      ]
     },
     "execution_count": 36,
     "metadata": {},
     "output_type": "execute_result"
    }
   ],
   "source": [
    "pokemon.filter(\n",
    "    pl.col(\"HP\") > 150\n",
    ")"
   ]
  },
  {
   "cell_type": "markdown",
   "metadata": {},
   "source": [
    "## Groupby Polars"
   ]
  },
  {
   "cell_type": "code",
   "execution_count": 46,
   "metadata": {},
   "outputs": [
    {
     "data": {
      "text/html": [
       "<div><style>\n",
       ".dataframe > thead > tr,\n",
       ".dataframe > tbody > tr {\n",
       "  text-align: right;\n",
       "  white-space: pre-wrap;\n",
       "}\n",
       "</style>\n",
       "<small>shape: (15, 2)</small><table border=\"1\" class=\"dataframe\"><thead><tr><th>Type 1</th><th>Count</th></tr><tr><td>str</td><td>u32</td></tr></thead><tbody><tr><td>&quot;Water&quot;</td><td>31</td></tr><tr><td>&quot;Normal&quot;</td><td>24</td></tr><tr><td>&quot;Poison&quot;</td><td>14</td></tr><tr><td>&quot;Bug&quot;</td><td>14</td></tr><tr><td>&quot;Fire&quot;</td><td>14</td></tr><tr><td>&hellip;</td><td>&hellip;</td></tr><tr><td>&quot;Fighting&quot;</td><td>7</td></tr><tr><td>&quot;Ghost&quot;</td><td>4</td></tr><tr><td>&quot;Dragon&quot;</td><td>3</td></tr><tr><td>&quot;Fairy&quot;</td><td>2</td></tr><tr><td>&quot;Ice&quot;</td><td>2</td></tr></tbody></table></div>"
      ],
      "text/plain": [
       "shape: (15, 2)\n",
       "┌──────────┬───────┐\n",
       "│ Type 1   ┆ Count │\n",
       "│ ---      ┆ ---   │\n",
       "│ str      ┆ u32   │\n",
       "╞══════════╪═══════╡\n",
       "│ Water    ┆ 31    │\n",
       "│ Normal   ┆ 24    │\n",
       "│ Poison   ┆ 14    │\n",
       "│ Bug      ┆ 14    │\n",
       "│ Fire     ┆ 14    │\n",
       "│ …        ┆ …     │\n",
       "│ Fighting ┆ 7     │\n",
       "│ Ghost    ┆ 4     │\n",
       "│ Dragon   ┆ 3     │\n",
       "│ Fairy    ┆ 2     │\n",
       "│ Ice      ┆ 2     │\n",
       "└──────────┴───────┘"
      ]
     },
     "execution_count": 46,
     "metadata": {},
     "output_type": "execute_result"
    }
   ],
   "source": [
    "# Grab type 1 pokemon counts\n",
    "gen1 = pokemon.filter(\n",
    "    pl.col(\"Generation\")==1\n",
    ")\n",
    "\n",
    "out = gen1.group_by(\"Type 1\").agg(\n",
    "    pl.col(\"#\").count().alias(\"Count\")\n",
    ")\n",
    "\n",
    "out.select(\n",
    "    pl.col(\"Type 1\"),\n",
    "    pl.col(\"Count\")\n",
    ").sort('Count', descending=True)\n",
    "\n"
   ]
  },
  {
   "cell_type": "code",
   "execution_count": 38,
   "metadata": {},
   "outputs": [
    {
     "data": {
      "text/html": [
       "<div><style>\n",
       ".dataframe > thead > tr,\n",
       ".dataframe > tbody > tr {\n",
       "  text-align: right;\n",
       "  white-space: pre-wrap;\n",
       "}\n",
       "</style>\n",
       "<small>shape: (43, 12)</small><table border=\"1\" class=\"dataframe\"><thead><tr><th>#</th><th>Name</th><th>Type 1</th><th>Type 2</th><th>HP</th><th>Attack</th><th>Defense</th><th>Sp. Atk</th><th>Sp. Def</th><th>Speed</th><th>Generation</th><th>Legendary</th></tr><tr><td>i64</td><td>str</td><td>str</td><td>str</td><td>i64</td><td>i64</td><td>i64</td><td>i64</td><td>i64</td><td>i64</td><td>i64</td><td>bool</td></tr></thead><tbody><tr><td>1</td><td>&quot;Bulbasaur&quot;</td><td>&quot;Grass&quot;</td><td>&quot;Poison&quot;</td><td>45</td><td>49</td><td>49</td><td>65</td><td>65</td><td>45</td><td>1</td><td>false</td></tr><tr><td>9</td><td>&quot;Blastoise&quot;</td><td>&quot;Water&quot;</td><td>null</td><td>79</td><td>83</td><td>100</td><td>85</td><td>105</td><td>78</td><td>1</td><td>false</td></tr><tr><td>9</td><td>&quot;BlastoiseMega …</td><td>&quot;Water&quot;</td><td>null</td><td>79</td><td>103</td><td>120</td><td>135</td><td>115</td><td>78</td><td>1</td><td>false</td></tr><tr><td>12</td><td>&quot;Butterfree&quot;</td><td>&quot;Bug&quot;</td><td>&quot;Flying&quot;</td><td>60</td><td>45</td><td>50</td><td>90</td><td>80</td><td>70</td><td>1</td><td>false</td></tr><tr><td>15</td><td>&quot;Beedrill&quot;</td><td>&quot;Bug&quot;</td><td>&quot;Poison&quot;</td><td>65</td><td>90</td><td>40</td><td>45</td><td>80</td><td>75</td><td>1</td><td>false</td></tr><tr><td>&hellip;</td><td>&hellip;</td><td>&hellip;</td><td>&hellip;</td><td>&hellip;</td><td>&hellip;</td><td>&hellip;</td><td>&hellip;</td><td>&hellip;</td><td>&hellip;</td><td>&hellip;</td><td>&hellip;</td></tr><tr><td>654</td><td>&quot;Braixen&quot;</td><td>&quot;Fire&quot;</td><td>null</td><td>59</td><td>59</td><td>58</td><td>90</td><td>70</td><td>73</td><td>6</td><td>false</td></tr><tr><td>659</td><td>&quot;Bunnelby&quot;</td><td>&quot;Normal&quot;</td><td>null</td><td>38</td><td>36</td><td>38</td><td>32</td><td>36</td><td>57</td><td>6</td><td>false</td></tr><tr><td>688</td><td>&quot;Binacle&quot;</td><td>&quot;Rock&quot;</td><td>&quot;Water&quot;</td><td>42</td><td>52</td><td>67</td><td>39</td><td>56</td><td>50</td><td>6</td><td>false</td></tr><tr><td>689</td><td>&quot;Barbaracle&quot;</td><td>&quot;Rock&quot;</td><td>&quot;Water&quot;</td><td>72</td><td>105</td><td>115</td><td>54</td><td>86</td><td>68</td><td>6</td><td>false</td></tr><tr><td>712</td><td>&quot;Bergmite&quot;</td><td>&quot;Ice&quot;</td><td>null</td><td>55</td><td>69</td><td>85</td><td>32</td><td>35</td><td>28</td><td>6</td><td>false</td></tr></tbody></table></div>"
      ],
      "text/plain": [
       "shape: (43, 12)\n",
       "┌─────┬─────────────────────────┬────────┬────────┬───┬─────────┬───────┬────────────┬───────────┐\n",
       "│ #   ┆ Name                    ┆ Type 1 ┆ Type 2 ┆ … ┆ Sp. Def ┆ Speed ┆ Generation ┆ Legendary │\n",
       "│ --- ┆ ---                     ┆ ---    ┆ ---    ┆   ┆ ---     ┆ ---   ┆ ---        ┆ ---       │\n",
       "│ i64 ┆ str                     ┆ str    ┆ str    ┆   ┆ i64     ┆ i64   ┆ i64        ┆ bool      │\n",
       "╞═════╪═════════════════════════╪════════╪════════╪═══╪═════════╪═══════╪════════════╪═══════════╡\n",
       "│ 1   ┆ Bulbasaur               ┆ Grass  ┆ Poison ┆ … ┆ 65      ┆ 45    ┆ 1          ┆ false     │\n",
       "│ 9   ┆ Blastoise               ┆ Water  ┆ null   ┆ … ┆ 105     ┆ 78    ┆ 1          ┆ false     │\n",
       "│ 9   ┆ BlastoiseMega Blastoise ┆ Water  ┆ null   ┆ … ┆ 115     ┆ 78    ┆ 1          ┆ false     │\n",
       "│ 12  ┆ Butterfree              ┆ Bug    ┆ Flying ┆ … ┆ 80      ┆ 70    ┆ 1          ┆ false     │\n",
       "│ 15  ┆ Beedrill                ┆ Bug    ┆ Poison ┆ … ┆ 80      ┆ 75    ┆ 1          ┆ false     │\n",
       "│ …   ┆ …                       ┆ …      ┆ …      ┆ … ┆ …       ┆ …     ┆ …          ┆ …         │\n",
       "│ 654 ┆ Braixen                 ┆ Fire   ┆ null   ┆ … ┆ 70      ┆ 73    ┆ 6          ┆ false     │\n",
       "│ 659 ┆ Bunnelby                ┆ Normal ┆ null   ┆ … ┆ 36      ┆ 57    ┆ 6          ┆ false     │\n",
       "│ 688 ┆ Binacle                 ┆ Rock   ┆ Water  ┆ … ┆ 56      ┆ 50    ┆ 6          ┆ false     │\n",
       "│ 689 ┆ Barbaracle              ┆ Rock   ┆ Water  ┆ … ┆ 86      ┆ 68    ┆ 6          ┆ false     │\n",
       "│ 712 ┆ Bergmite                ┆ Ice    ┆ null   ┆ … ┆ 35      ┆ 28    ┆ 6          ┆ false     │\n",
       "└─────┴─────────────────────────┴────────┴────────┴───┴─────────┴───────┴────────────┴───────────┘"
      ]
     },
     "execution_count": 38,
     "metadata": {},
     "output_type": "execute_result"
    }
   ],
   "source": [
    "pokemon.filter(\n",
    "    pl.col('Name').str.starts_with('B')\n",
    ")"
   ]
  },
  {
   "cell_type": "markdown",
   "metadata": {},
   "source": [
    "## Performance benefits of Polars"
   ]
  },
  {
   "cell_type": "code",
   "execution_count": 3,
   "metadata": {},
   "outputs": [],
   "source": [
    "import polars as pl\n",
    "import pandas as pd\n",
    "\n",
    "file_path = './data/trending_yt.csv'"
   ]
  },
  {
   "cell_type": "code",
   "execution_count": 4,
   "metadata": {},
   "outputs": [],
   "source": [
    "yt_pandas = pd.read_csv(file_path)"
   ]
  },
  {
   "cell_type": "code",
   "execution_count": 11,
   "metadata": {},
   "outputs": [
    {
     "data": {
      "text/html": [
       "<div>\n",
       "<style scoped>\n",
       "    .dataframe tbody tr th:only-of-type {\n",
       "        vertical-align: middle;\n",
       "    }\n",
       "\n",
       "    .dataframe tbody tr th {\n",
       "        vertical-align: top;\n",
       "    }\n",
       "\n",
       "    .dataframe thead th {\n",
       "        text-align: right;\n",
       "    }\n",
       "</style>\n",
       "<table border=\"1\" class=\"dataframe\">\n",
       "  <thead>\n",
       "    <tr style=\"text-align: right;\">\n",
       "      <th></th>\n",
       "      <th>title</th>\n",
       "      <th>channel_name</th>\n",
       "      <th>daily_rank</th>\n",
       "      <th>daily_movement</th>\n",
       "      <th>weekly_movement</th>\n",
       "      <th>snapshot_date</th>\n",
       "      <th>country</th>\n",
       "      <th>view_count</th>\n",
       "      <th>like_count</th>\n",
       "      <th>comment_count</th>\n",
       "      <th>description</th>\n",
       "      <th>thumbnail_url</th>\n",
       "      <th>video_id</th>\n",
       "      <th>channel_id</th>\n",
       "      <th>video_tags</th>\n",
       "      <th>kind</th>\n",
       "      <th>publish_date</th>\n",
       "      <th>langauge</th>\n",
       "    </tr>\n",
       "  </thead>\n",
       "  <tbody>\n",
       "    <tr>\n",
       "      <th>17</th>\n",
       "      <td>Survive 100 Days In Nuclear Bunker, Win $500,000</td>\n",
       "      <td>MrBeast</td>\n",
       "      <td>18</td>\n",
       "      <td>-2</td>\n",
       "      <td>32</td>\n",
       "      <td>2024-08-07</td>\n",
       "      <td>ZW</td>\n",
       "      <td>113096597</td>\n",
       "      <td>4170889</td>\n",
       "      <td>83742</td>\n",
       "      <td>This video was really fun to make, I hope you ...</td>\n",
       "      <td>https://i.ytimg.com/vi/UPrkC1LdlLY/mqdefault.jpg</td>\n",
       "      <td>UPrkC1LdlLY</td>\n",
       "      <td>UCX6OQ3DkcsbYNE6H8uQQuVA</td>\n",
       "      <td>NaN</td>\n",
       "      <td>youtube#video</td>\n",
       "      <td>2024-08-03 00:00:00+00:00</td>\n",
       "      <td>en</td>\n",
       "    </tr>\n",
       "    <tr>\n",
       "      <th>43</th>\n",
       "      <td>How Many Balloons Does It Take To Fly?</td>\n",
       "      <td>MrBeast</td>\n",
       "      <td>44</td>\n",
       "      <td>-7</td>\n",
       "      <td>-20</td>\n",
       "      <td>2024-08-07</td>\n",
       "      <td>ZW</td>\n",
       "      <td>210114937</td>\n",
       "      <td>11698535</td>\n",
       "      <td>46396</td>\n",
       "      <td>NaN</td>\n",
       "      <td>https://i.ytimg.com/vi/lkCRPp7cnP8/mqdefault.jpg</td>\n",
       "      <td>lkCRPp7cnP8</td>\n",
       "      <td>UCX6OQ3DkcsbYNE6H8uQQuVA</td>\n",
       "      <td>NaN</td>\n",
       "      <td>youtube#video</td>\n",
       "      <td>2024-07-10 00:00:00+00:00</td>\n",
       "      <td>en</td>\n",
       "    </tr>\n",
       "    <tr>\n",
       "      <th>71</th>\n",
       "      <td>Survive 100 Days In Nuclear Bunker, Win $500,000</td>\n",
       "      <td>MrBeast</td>\n",
       "      <td>22</td>\n",
       "      <td>-6</td>\n",
       "      <td>28</td>\n",
       "      <td>2024-08-07</td>\n",
       "      <td>ZA</td>\n",
       "      <td>113096597</td>\n",
       "      <td>4170834</td>\n",
       "      <td>83742</td>\n",
       "      <td>This video was really fun to make, I hope you ...</td>\n",
       "      <td>https://i.ytimg.com/vi/UPrkC1LdlLY/mqdefault.jpg</td>\n",
       "      <td>UPrkC1LdlLY</td>\n",
       "      <td>UCX6OQ3DkcsbYNE6H8uQQuVA</td>\n",
       "      <td>NaN</td>\n",
       "      <td>youtube#video</td>\n",
       "      <td>2024-08-03 00:00:00+00:00</td>\n",
       "      <td>en</td>\n",
       "    </tr>\n",
       "    <tr>\n",
       "      <th>80</th>\n",
       "      <td>Secret Experiment Toothpaste Pt.4 😱 #shorts</td>\n",
       "      <td>Mr DegrEE</td>\n",
       "      <td>31</td>\n",
       "      <td>-4</td>\n",
       "      <td>-20</td>\n",
       "      <td>2024-08-07</td>\n",
       "      <td>ZA</td>\n",
       "      <td>38344956</td>\n",
       "      <td>675827</td>\n",
       "      <td>467</td>\n",
       "      <td>Mystery Experiment toothpaste?! Thank you for ...</td>\n",
       "      <td>https://i.ytimg.com/vi/YfnEQjayXqI/mqdefault.jpg</td>\n",
       "      <td>YfnEQjayXqI</td>\n",
       "      <td>UCeYTfGpNCmVhlxjQxBDrGPA</td>\n",
       "      <td>How to Make, gummy, jelly, idea, food, hacks, ...</td>\n",
       "      <td>youtube#video</td>\n",
       "      <td>2024-07-25 00:00:00+00:00</td>\n",
       "      <td>zxx</td>\n",
       "    </tr>\n",
       "    <tr>\n",
       "      <th>110</th>\n",
       "      <td>Survive 100 Days In Nuclear Bunker, Win $500,000</td>\n",
       "      <td>MrBeast</td>\n",
       "      <td>11</td>\n",
       "      <td>5</td>\n",
       "      <td>39</td>\n",
       "      <td>2024-08-07</td>\n",
       "      <td>YE</td>\n",
       "      <td>113096597</td>\n",
       "      <td>4170814</td>\n",
       "      <td>83742</td>\n",
       "      <td>This video was really fun to make, I hope you ...</td>\n",
       "      <td>https://i.ytimg.com/vi/UPrkC1LdlLY/mqdefault.jpg</td>\n",
       "      <td>UPrkC1LdlLY</td>\n",
       "      <td>UCX6OQ3DkcsbYNE6H8uQQuVA</td>\n",
       "      <td>NaN</td>\n",
       "      <td>youtube#video</td>\n",
       "      <td>2024-08-03 00:00:00+00:00</td>\n",
       "      <td>en</td>\n",
       "    </tr>\n",
       "    <tr>\n",
       "      <th>...</th>\n",
       "      <td>...</td>\n",
       "      <td>...</td>\n",
       "      <td>...</td>\n",
       "      <td>...</td>\n",
       "      <td>...</td>\n",
       "      <td>...</td>\n",
       "      <td>...</td>\n",
       "      <td>...</td>\n",
       "      <td>...</td>\n",
       "      <td>...</td>\n",
       "      <td>...</td>\n",
       "      <td>...</td>\n",
       "      <td>...</td>\n",
       "      <td>...</td>\n",
       "      <td>...</td>\n",
       "      <td>...</td>\n",
       "      <td>...</td>\n",
       "      <td>...</td>\n",
       "    </tr>\n",
       "    <tr>\n",
       "      <th>1607417</th>\n",
       "      <td>$1 vs $100,000,000 House!</td>\n",
       "      <td>MrBeast</td>\n",
       "      <td>46</td>\n",
       "      <td>4</td>\n",
       "      <td>4</td>\n",
       "      <td>2023-10-26</td>\n",
       "      <td>BH</td>\n",
       "      <td>116071812</td>\n",
       "      <td>4273777</td>\n",
       "      <td>126338</td>\n",
       "      <td>I can’t believe how expensive the last house i...</td>\n",
       "      <td>https://i.ytimg.com/vi/3ryID_SwU5E/mqdefault.jpg</td>\n",
       "      <td>3ryID_SwU5E</td>\n",
       "      <td>UCX6OQ3DkcsbYNE6H8uQQuVA</td>\n",
       "      <td>NaN</td>\n",
       "      <td>youtube#video</td>\n",
       "      <td>2023-10-14 16:00:00+00:00</td>\n",
       "      <td>en</td>\n",
       "    </tr>\n",
       "    <tr>\n",
       "      <th>1607462</th>\n",
       "      <td>😼 #cat #cats</td>\n",
       "      <td>Mr DegrEE</td>\n",
       "      <td>41</td>\n",
       "      <td>9</td>\n",
       "      <td>9</td>\n",
       "      <td>2023-10-26</td>\n",
       "      <td>BG</td>\n",
       "      <td>11247043</td>\n",
       "      <td>199470</td>\n",
       "      <td>193</td>\n",
       "      <td>Thank you for watching. Subscribe to Mr Degree...</td>\n",
       "      <td>https://i.ytimg.com/vi/PcdTY1trJpk/mqdefault.jpg</td>\n",
       "      <td>PcdTY1trJpk</td>\n",
       "      <td>UCeYTfGpNCmVhlxjQxBDrGPA</td>\n",
       "      <td>shorts, video, funny, youtube, cat, cats, pet,...</td>\n",
       "      <td>youtube#video</td>\n",
       "      <td>2023-10-17 06:15:18+00:00</td>\n",
       "      <td>zxx</td>\n",
       "    </tr>\n",
       "    <tr>\n",
       "      <th>1607497</th>\n",
       "      <td>I Asked Mark Cuban For $1,000,000</td>\n",
       "      <td>MrBeast 2</td>\n",
       "      <td>26</td>\n",
       "      <td>24</td>\n",
       "      <td>24</td>\n",
       "      <td>2023-10-26</td>\n",
       "      <td>BE</td>\n",
       "      <td>4899080</td>\n",
       "      <td>380768</td>\n",
       "      <td>2013</td>\n",
       "      <td>NaN</td>\n",
       "      <td>https://i.ytimg.com/vi/RKT7xqPDy74/mqdefault.jpg</td>\n",
       "      <td>RKT7xqPDy74</td>\n",
       "      <td>UC4-79UOlP48-QNGgCko5p2g</td>\n",
       "      <td>NaN</td>\n",
       "      <td>youtube#video</td>\n",
       "      <td>2023-10-22 17:00:00+00:00</td>\n",
       "      <td>en</td>\n",
       "    </tr>\n",
       "    <tr>\n",
       "      <th>1607871</th>\n",
       "      <td>GENIUS HALLOWEEN FOOD HACKS 🕷️🧁 #shorts</td>\n",
       "      <td>Mr DegrEE</td>\n",
       "      <td>50</td>\n",
       "      <td>0</td>\n",
       "      <td>0</td>\n",
       "      <td>2023-10-26</td>\n",
       "      <td>AM</td>\n",
       "      <td>11193251</td>\n",
       "      <td>208981</td>\n",
       "      <td>174</td>\n",
       "      <td>Halloween Decorating Ideas! Thank you for watc...</td>\n",
       "      <td>https://i.ytimg.com/vi/qtiPVsGLajU/mqdefault.jpg</td>\n",
       "      <td>qtiPVsGLajU</td>\n",
       "      <td>UCeYTfGpNCmVhlxjQxBDrGPA</td>\n",
       "      <td>jail, prison, funny, food, cake, hacks, hallow...</td>\n",
       "      <td>youtube#video</td>\n",
       "      <td>2023-10-18 07:54:59+00:00</td>\n",
       "      <td>zxx</td>\n",
       "    </tr>\n",
       "    <tr>\n",
       "      <th>1607913</th>\n",
       "      <td>How to Sneak Makeup 💄😂 #shorts</td>\n",
       "      <td>Mr DegrEE</td>\n",
       "      <td>42</td>\n",
       "      <td>8</td>\n",
       "      <td>8</td>\n",
       "      <td>2023-10-26</td>\n",
       "      <td>AL</td>\n",
       "      <td>2164828</td>\n",
       "      <td>45096</td>\n",
       "      <td>53</td>\n",
       "      <td>Thank you for watching. Subscribe to Mr Degree...</td>\n",
       "      <td>https://i.ytimg.com/vi/4_Y22snDjpU/mqdefault.jpg</td>\n",
       "      <td>4_Y22snDjpU</td>\n",
       "      <td>UCeYTfGpNCmVhlxjQxBDrGPA</td>\n",
       "      <td>makeup, how to sneak, sneak, school, mariana, ...</td>\n",
       "      <td>youtube#video</td>\n",
       "      <td>2023-10-22 09:11:50+00:00</td>\n",
       "      <td>en-US</td>\n",
       "    </tr>\n",
       "  </tbody>\n",
       "</table>\n",
       "<p>28940 rows × 18 columns</p>\n",
       "</div>"
      ],
      "text/plain": [
       "                                                    title channel_name  \\\n",
       "17       Survive 100 Days In Nuclear Bunker, Win $500,000      MrBeast   \n",
       "43                 How Many Balloons Does It Take To Fly?      MrBeast   \n",
       "71       Survive 100 Days In Nuclear Bunker, Win $500,000      MrBeast   \n",
       "80            Secret Experiment Toothpaste Pt.4 😱 #shorts    Mr DegrEE   \n",
       "110      Survive 100 Days In Nuclear Bunker, Win $500,000      MrBeast   \n",
       "...                                                   ...          ...   \n",
       "1607417                         $1 vs $100,000,000 House!      MrBeast   \n",
       "1607462                                      😼 #cat #cats    Mr DegrEE   \n",
       "1607497                 I Asked Mark Cuban For $1,000,000    MrBeast 2   \n",
       "1607871           GENIUS HALLOWEEN FOOD HACKS 🕷️🧁 #shorts    Mr DegrEE   \n",
       "1607913                    How to Sneak Makeup 💄😂 #shorts    Mr DegrEE   \n",
       "\n",
       "         daily_rank  daily_movement  weekly_movement snapshot_date country  \\\n",
       "17               18              -2               32    2024-08-07      ZW   \n",
       "43               44              -7              -20    2024-08-07      ZW   \n",
       "71               22              -6               28    2024-08-07      ZA   \n",
       "80               31              -4              -20    2024-08-07      ZA   \n",
       "110              11               5               39    2024-08-07      YE   \n",
       "...             ...             ...              ...           ...     ...   \n",
       "1607417          46               4                4    2023-10-26      BH   \n",
       "1607462          41               9                9    2023-10-26      BG   \n",
       "1607497          26              24               24    2023-10-26      BE   \n",
       "1607871          50               0                0    2023-10-26      AM   \n",
       "1607913          42               8                8    2023-10-26      AL   \n",
       "\n",
       "         view_count  like_count  comment_count  \\\n",
       "17        113096597     4170889          83742   \n",
       "43        210114937    11698535          46396   \n",
       "71        113096597     4170834          83742   \n",
       "80         38344956      675827            467   \n",
       "110       113096597     4170814          83742   \n",
       "...             ...         ...            ...   \n",
       "1607417   116071812     4273777         126338   \n",
       "1607462    11247043      199470            193   \n",
       "1607497     4899080      380768           2013   \n",
       "1607871    11193251      208981            174   \n",
       "1607913     2164828       45096             53   \n",
       "\n",
       "                                               description  \\\n",
       "17       This video was really fun to make, I hope you ...   \n",
       "43                                                     NaN   \n",
       "71       This video was really fun to make, I hope you ...   \n",
       "80       Mystery Experiment toothpaste?! Thank you for ...   \n",
       "110      This video was really fun to make, I hope you ...   \n",
       "...                                                    ...   \n",
       "1607417  I can’t believe how expensive the last house i...   \n",
       "1607462  Thank you for watching. Subscribe to Mr Degree...   \n",
       "1607497                                                NaN   \n",
       "1607871  Halloween Decorating Ideas! Thank you for watc...   \n",
       "1607913  Thank you for watching. Subscribe to Mr Degree...   \n",
       "\n",
       "                                            thumbnail_url     video_id  \\\n",
       "17       https://i.ytimg.com/vi/UPrkC1LdlLY/mqdefault.jpg  UPrkC1LdlLY   \n",
       "43       https://i.ytimg.com/vi/lkCRPp7cnP8/mqdefault.jpg  lkCRPp7cnP8   \n",
       "71       https://i.ytimg.com/vi/UPrkC1LdlLY/mqdefault.jpg  UPrkC1LdlLY   \n",
       "80       https://i.ytimg.com/vi/YfnEQjayXqI/mqdefault.jpg  YfnEQjayXqI   \n",
       "110      https://i.ytimg.com/vi/UPrkC1LdlLY/mqdefault.jpg  UPrkC1LdlLY   \n",
       "...                                                   ...          ...   \n",
       "1607417  https://i.ytimg.com/vi/3ryID_SwU5E/mqdefault.jpg  3ryID_SwU5E   \n",
       "1607462  https://i.ytimg.com/vi/PcdTY1trJpk/mqdefault.jpg  PcdTY1trJpk   \n",
       "1607497  https://i.ytimg.com/vi/RKT7xqPDy74/mqdefault.jpg  RKT7xqPDy74   \n",
       "1607871  https://i.ytimg.com/vi/qtiPVsGLajU/mqdefault.jpg  qtiPVsGLajU   \n",
       "1607913  https://i.ytimg.com/vi/4_Y22snDjpU/mqdefault.jpg  4_Y22snDjpU   \n",
       "\n",
       "                       channel_id  \\\n",
       "17       UCX6OQ3DkcsbYNE6H8uQQuVA   \n",
       "43       UCX6OQ3DkcsbYNE6H8uQQuVA   \n",
       "71       UCX6OQ3DkcsbYNE6H8uQQuVA   \n",
       "80       UCeYTfGpNCmVhlxjQxBDrGPA   \n",
       "110      UCX6OQ3DkcsbYNE6H8uQQuVA   \n",
       "...                           ...   \n",
       "1607417  UCX6OQ3DkcsbYNE6H8uQQuVA   \n",
       "1607462  UCeYTfGpNCmVhlxjQxBDrGPA   \n",
       "1607497  UC4-79UOlP48-QNGgCko5p2g   \n",
       "1607871  UCeYTfGpNCmVhlxjQxBDrGPA   \n",
       "1607913  UCeYTfGpNCmVhlxjQxBDrGPA   \n",
       "\n",
       "                                                video_tags           kind  \\\n",
       "17                                                     NaN  youtube#video   \n",
       "43                                                     NaN  youtube#video   \n",
       "71                                                     NaN  youtube#video   \n",
       "80       How to Make, gummy, jelly, idea, food, hacks, ...  youtube#video   \n",
       "110                                                    NaN  youtube#video   \n",
       "...                                                    ...            ...   \n",
       "1607417                                                NaN  youtube#video   \n",
       "1607462  shorts, video, funny, youtube, cat, cats, pet,...  youtube#video   \n",
       "1607497                                                NaN  youtube#video   \n",
       "1607871  jail, prison, funny, food, cake, hacks, hallow...  youtube#video   \n",
       "1607913  makeup, how to sneak, sneak, school, mariana, ...  youtube#video   \n",
       "\n",
       "                      publish_date langauge  \n",
       "17       2024-08-03 00:00:00+00:00       en  \n",
       "43       2024-07-10 00:00:00+00:00       en  \n",
       "71       2024-08-03 00:00:00+00:00       en  \n",
       "80       2024-07-25 00:00:00+00:00      zxx  \n",
       "110      2024-08-03 00:00:00+00:00       en  \n",
       "...                            ...      ...  \n",
       "1607417  2023-10-14 16:00:00+00:00       en  \n",
       "1607462  2023-10-17 06:15:18+00:00      zxx  \n",
       "1607497  2023-10-22 17:00:00+00:00       en  \n",
       "1607871  2023-10-18 07:54:59+00:00      zxx  \n",
       "1607913  2023-10-22 09:11:50+00:00    en-US  \n",
       "\n",
       "[28940 rows x 18 columns]"
      ]
     },
     "execution_count": 11,
     "metadata": {},
     "output_type": "execute_result"
    }
   ],
   "source": [
    "yt_pandas[yt_pandas['channel_name'].str.startswith('Mr')]"
   ]
  },
  {
   "cell_type": "code",
   "execution_count": 5,
   "metadata": {},
   "outputs": [],
   "source": [
    "yt_polars = pl.read_csv(file_path)"
   ]
  },
  {
   "cell_type": "code",
   "execution_count": null,
   "metadata": {},
   "outputs": [],
   "source": []
  },
  {
   "cell_type": "code",
   "execution_count": 12,
   "metadata": {},
   "outputs": [
    {
     "data": {
      "text/html": [
       "<div><style>\n",
       ".dataframe > thead > tr,\n",
       ".dataframe > tbody > tr {\n",
       "  text-align: right;\n",
       "  white-space: pre-wrap;\n",
       "}\n",
       "</style>\n",
       "<small>shape: (28_940, 18)</small><table border=\"1\" class=\"dataframe\"><thead><tr><th>title</th><th>channel_name</th><th>daily_rank</th><th>daily_movement</th><th>weekly_movement</th><th>snapshot_date</th><th>country</th><th>view_count</th><th>like_count</th><th>comment_count</th><th>description</th><th>thumbnail_url</th><th>video_id</th><th>channel_id</th><th>video_tags</th><th>kind</th><th>publish_date</th><th>langauge</th></tr><tr><td>str</td><td>str</td><td>i64</td><td>i64</td><td>i64</td><td>str</td><td>str</td><td>i64</td><td>i64</td><td>i64</td><td>str</td><td>str</td><td>str</td><td>str</td><td>str</td><td>str</td><td>str</td><td>str</td></tr></thead><tbody><tr><td>&quot;Survive 100 Da…</td><td>&quot;MrBeast&quot;</td><td>18</td><td>-2</td><td>32</td><td>&quot;2024-08-07&quot;</td><td>&quot;ZW&quot;</td><td>113096597</td><td>4170889</td><td>83742</td><td>&quot;This video was…</td><td>&quot;https://i.ytim…</td><td>&quot;UPrkC1LdlLY&quot;</td><td>&quot;UCX6OQ3DkcsbYN…</td><td>&quot;&quot;</td><td>&quot;youtube#video&quot;</td><td>&quot;2024-08-03 00:…</td><td>&quot;en&quot;</td></tr><tr><td>&quot;How Many Ballo…</td><td>&quot;MrBeast&quot;</td><td>44</td><td>-7</td><td>-20</td><td>&quot;2024-08-07&quot;</td><td>&quot;ZW&quot;</td><td>210114937</td><td>11698535</td><td>46396</td><td>&quot;&quot;</td><td>&quot;https://i.ytim…</td><td>&quot;lkCRPp7cnP8&quot;</td><td>&quot;UCX6OQ3DkcsbYN…</td><td>&quot;&quot;</td><td>&quot;youtube#video&quot;</td><td>&quot;2024-07-10 00:…</td><td>&quot;en&quot;</td></tr><tr><td>&quot;Survive 100 Da…</td><td>&quot;MrBeast&quot;</td><td>22</td><td>-6</td><td>28</td><td>&quot;2024-08-07&quot;</td><td>&quot;ZA&quot;</td><td>113096597</td><td>4170834</td><td>83742</td><td>&quot;This video was…</td><td>&quot;https://i.ytim…</td><td>&quot;UPrkC1LdlLY&quot;</td><td>&quot;UCX6OQ3DkcsbYN…</td><td>&quot;&quot;</td><td>&quot;youtube#video&quot;</td><td>&quot;2024-08-03 00:…</td><td>&quot;en&quot;</td></tr><tr><td>&quot;Secret Experim…</td><td>&quot;Mr DegrEE&quot;</td><td>31</td><td>-4</td><td>-20</td><td>&quot;2024-08-07&quot;</td><td>&quot;ZA&quot;</td><td>38344956</td><td>675827</td><td>467</td><td>&quot;Mystery Experi…</td><td>&quot;https://i.ytim…</td><td>&quot;YfnEQjayXqI&quot;</td><td>&quot;UCeYTfGpNCmVhl…</td><td>&quot;How to Make, g…</td><td>&quot;youtube#video&quot;</td><td>&quot;2024-07-25 00:…</td><td>&quot;zxx&quot;</td></tr><tr><td>&quot;Survive 100 Da…</td><td>&quot;MrBeast&quot;</td><td>11</td><td>5</td><td>39</td><td>&quot;2024-08-07&quot;</td><td>&quot;YE&quot;</td><td>113096597</td><td>4170814</td><td>83742</td><td>&quot;This video was…</td><td>&quot;https://i.ytim…</td><td>&quot;UPrkC1LdlLY&quot;</td><td>&quot;UCX6OQ3DkcsbYN…</td><td>&quot;&quot;</td><td>&quot;youtube#video&quot;</td><td>&quot;2024-08-03 00:…</td><td>&quot;en&quot;</td></tr><tr><td>&hellip;</td><td>&hellip;</td><td>&hellip;</td><td>&hellip;</td><td>&hellip;</td><td>&hellip;</td><td>&hellip;</td><td>&hellip;</td><td>&hellip;</td><td>&hellip;</td><td>&hellip;</td><td>&hellip;</td><td>&hellip;</td><td>&hellip;</td><td>&hellip;</td><td>&hellip;</td><td>&hellip;</td><td>&hellip;</td></tr><tr><td>&quot;$1 vs $100,000…</td><td>&quot;MrBeast&quot;</td><td>46</td><td>4</td><td>4</td><td>&quot;2023-10-26&quot;</td><td>&quot;BH&quot;</td><td>116071812</td><td>4273777</td><td>126338</td><td>&quot;I can’t believ…</td><td>&quot;https://i.ytim…</td><td>&quot;3ryID_SwU5E&quot;</td><td>&quot;UCX6OQ3DkcsbYN…</td><td>&quot;&quot;</td><td>&quot;youtube#video&quot;</td><td>&quot;2023-10-14 16:…</td><td>&quot;en&quot;</td></tr><tr><td>&quot;😼 #cat #cats&quot;</td><td>&quot;Mr DegrEE&quot;</td><td>41</td><td>9</td><td>9</td><td>&quot;2023-10-26&quot;</td><td>&quot;BG&quot;</td><td>11247043</td><td>199470</td><td>193</td><td>&quot;Thank you for …</td><td>&quot;https://i.ytim…</td><td>&quot;PcdTY1trJpk&quot;</td><td>&quot;UCeYTfGpNCmVhl…</td><td>&quot;shorts, video,…</td><td>&quot;youtube#video&quot;</td><td>&quot;2023-10-17 06:…</td><td>&quot;zxx&quot;</td></tr><tr><td>&quot;I Asked Mark C…</td><td>&quot;MrBeast 2&quot;</td><td>26</td><td>24</td><td>24</td><td>&quot;2023-10-26&quot;</td><td>&quot;BE&quot;</td><td>4899080</td><td>380768</td><td>2013</td><td>&quot;&quot;</td><td>&quot;https://i.ytim…</td><td>&quot;RKT7xqPDy74&quot;</td><td>&quot;UC4-79UOlP48-Q…</td><td>&quot;&quot;</td><td>&quot;youtube#video&quot;</td><td>&quot;2023-10-22 17:…</td><td>&quot;en&quot;</td></tr><tr><td>&quot;GENIUS HALLOWE…</td><td>&quot;Mr DegrEE&quot;</td><td>50</td><td>0</td><td>0</td><td>&quot;2023-10-26&quot;</td><td>&quot;AM&quot;</td><td>11193251</td><td>208981</td><td>174</td><td>&quot;Halloween Deco…</td><td>&quot;https://i.ytim…</td><td>&quot;qtiPVsGLajU&quot;</td><td>&quot;UCeYTfGpNCmVhl…</td><td>&quot;jail, prison, …</td><td>&quot;youtube#video&quot;</td><td>&quot;2023-10-18 07:…</td><td>&quot;zxx&quot;</td></tr><tr><td>&quot;How to Sneak M…</td><td>&quot;Mr DegrEE&quot;</td><td>42</td><td>8</td><td>8</td><td>&quot;2023-10-26&quot;</td><td>&quot;AL&quot;</td><td>2164828</td><td>45096</td><td>53</td><td>&quot;Thank you for …</td><td>&quot;https://i.ytim…</td><td>&quot;4_Y22snDjpU&quot;</td><td>&quot;UCeYTfGpNCmVhl…</td><td>&quot;makeup, how to…</td><td>&quot;youtube#video&quot;</td><td>&quot;2023-10-22 09:…</td><td>&quot;en-US&quot;</td></tr></tbody></table></div>"
      ],
      "text/plain": [
       "shape: (28_940, 18)\n",
       "┌───────────┬───────────┬───────────┬───────────┬───┬───────────┬───────────┬───────────┬──────────┐\n",
       "│ title     ┆ channel_n ┆ daily_ran ┆ daily_mov ┆ … ┆ video_tag ┆ kind      ┆ publish_d ┆ langauge │\n",
       "│ ---       ┆ ame       ┆ k         ┆ ement     ┆   ┆ s         ┆ ---       ┆ ate       ┆ ---      │\n",
       "│ str       ┆ ---       ┆ ---       ┆ ---       ┆   ┆ ---       ┆ str       ┆ ---       ┆ str      │\n",
       "│           ┆ str       ┆ i64       ┆ i64       ┆   ┆ str       ┆           ┆ str       ┆          │\n",
       "╞═══════════╪═══════════╪═══════════╪═══════════╪═══╪═══════════╪═══════════╪═══════════╪══════════╡\n",
       "│ Survive   ┆ MrBeast   ┆ 18        ┆ -2        ┆ … ┆           ┆ youtube#v ┆ 2024-08-0 ┆ en       │\n",
       "│ 100 Days  ┆           ┆           ┆           ┆   ┆           ┆ ideo      ┆ 3 00:00:0 ┆          │\n",
       "│ In        ┆           ┆           ┆           ┆   ┆           ┆           ┆ 0+00:00   ┆          │\n",
       "│ Nuclear   ┆           ┆           ┆           ┆   ┆           ┆           ┆           ┆          │\n",
       "│ Bunk…     ┆           ┆           ┆           ┆   ┆           ┆           ┆           ┆          │\n",
       "│ How Many  ┆ MrBeast   ┆ 44        ┆ -7        ┆ … ┆           ┆ youtube#v ┆ 2024-07-1 ┆ en       │\n",
       "│ Balloons  ┆           ┆           ┆           ┆   ┆           ┆ ideo      ┆ 0 00:00:0 ┆          │\n",
       "│ Does It   ┆           ┆           ┆           ┆   ┆           ┆           ┆ 0+00:00   ┆          │\n",
       "│ Take T…   ┆           ┆           ┆           ┆   ┆           ┆           ┆           ┆          │\n",
       "│ Survive   ┆ MrBeast   ┆ 22        ┆ -6        ┆ … ┆           ┆ youtube#v ┆ 2024-08-0 ┆ en       │\n",
       "│ 100 Days  ┆           ┆           ┆           ┆   ┆           ┆ ideo      ┆ 3 00:00:0 ┆          │\n",
       "│ In        ┆           ┆           ┆           ┆   ┆           ┆           ┆ 0+00:00   ┆          │\n",
       "│ Nuclear   ┆           ┆           ┆           ┆   ┆           ┆           ┆           ┆          │\n",
       "│ Bunk…     ┆           ┆           ┆           ┆   ┆           ┆           ┆           ┆          │\n",
       "│ Secret    ┆ Mr DegrEE ┆ 31        ┆ -4        ┆ … ┆ How to    ┆ youtube#v ┆ 2024-07-2 ┆ zxx      │\n",
       "│ Experimen ┆           ┆           ┆           ┆   ┆ Make,     ┆ ideo      ┆ 5 00:00:0 ┆          │\n",
       "│ t Toothpa ┆           ┆           ┆           ┆   ┆ gummy,    ┆           ┆ 0+00:00   ┆          │\n",
       "│ ste Pt.…  ┆           ┆           ┆           ┆   ┆ jelly,    ┆           ┆           ┆          │\n",
       "│           ┆           ┆           ┆           ┆   ┆ idea,…    ┆           ┆           ┆          │\n",
       "│ Survive   ┆ MrBeast   ┆ 11        ┆ 5         ┆ … ┆           ┆ youtube#v ┆ 2024-08-0 ┆ en       │\n",
       "│ 100 Days  ┆           ┆           ┆           ┆   ┆           ┆ ideo      ┆ 3 00:00:0 ┆          │\n",
       "│ In        ┆           ┆           ┆           ┆   ┆           ┆           ┆ 0+00:00   ┆          │\n",
       "│ Nuclear   ┆           ┆           ┆           ┆   ┆           ┆           ┆           ┆          │\n",
       "│ Bunk…     ┆           ┆           ┆           ┆   ┆           ┆           ┆           ┆          │\n",
       "│ …         ┆ …         ┆ …         ┆ …         ┆ … ┆ …         ┆ …         ┆ …         ┆ …        │\n",
       "│ $1 vs $10 ┆ MrBeast   ┆ 46        ┆ 4         ┆ … ┆           ┆ youtube#v ┆ 2023-10-1 ┆ en       │\n",
       "│ 0,000,000 ┆           ┆           ┆           ┆   ┆           ┆ ideo      ┆ 4 16:00:0 ┆          │\n",
       "│ House!    ┆           ┆           ┆           ┆   ┆           ┆           ┆ 0+00:00   ┆          │\n",
       "│ 😼 #cat   ┆ Mr DegrEE ┆ 41        ┆ 9         ┆ … ┆ shorts,   ┆ youtube#v ┆ 2023-10-1 ┆ zxx      │\n",
       "│ #cats     ┆           ┆           ┆           ┆   ┆ video,    ┆ ideo      ┆ 7 06:15:1 ┆          │\n",
       "│           ┆           ┆           ┆           ┆   ┆ funny,    ┆           ┆ 8+00:00   ┆          │\n",
       "│           ┆           ┆           ┆           ┆   ┆ youtube,  ┆           ┆           ┆          │\n",
       "│           ┆           ┆           ┆           ┆   ┆ c…        ┆           ┆           ┆          │\n",
       "│ I Asked   ┆ MrBeast 2 ┆ 26        ┆ 24        ┆ … ┆           ┆ youtube#v ┆ 2023-10-2 ┆ en       │\n",
       "│ Mark      ┆           ┆           ┆           ┆   ┆           ┆ ideo      ┆ 2 17:00:0 ┆          │\n",
       "│ Cuban For ┆           ┆           ┆           ┆   ┆           ┆           ┆ 0+00:00   ┆          │\n",
       "│ $1,000,00 ┆           ┆           ┆           ┆   ┆           ┆           ┆           ┆          │\n",
       "│ …         ┆           ┆           ┆           ┆   ┆           ┆           ┆           ┆          │\n",
       "│ GENIUS    ┆ Mr DegrEE ┆ 50        ┆ 0         ┆ … ┆ jail,     ┆ youtube#v ┆ 2023-10-1 ┆ zxx      │\n",
       "│ HALLOWEEN ┆           ┆           ┆           ┆   ┆ prison,   ┆ ideo      ┆ 8 07:54:5 ┆          │\n",
       "│ FOOD      ┆           ┆           ┆           ┆   ┆ funny,    ┆           ┆ 9+00:00   ┆          │\n",
       "│ HACKS 🕷️🧁 ┆           ┆           ┆           ┆   ┆ food,     ┆           ┆           ┆          │\n",
       "│ …         ┆           ┆           ┆           ┆   ┆ cake,…    ┆           ┆           ┆          │\n",
       "│ How to    ┆ Mr DegrEE ┆ 42        ┆ 8         ┆ … ┆ makeup,   ┆ youtube#v ┆ 2023-10-2 ┆ en-US    │\n",
       "│ Sneak     ┆           ┆           ┆           ┆   ┆ how to    ┆ ideo      ┆ 2 09:11:5 ┆          │\n",
       "│ Makeup    ┆           ┆           ┆           ┆   ┆ sneak,    ┆           ┆ 0+00:00   ┆          │\n",
       "│ 💄😂      ┆           ┆           ┆           ┆   ┆ sneak,    ┆           ┆           ┆          │\n",
       "│ #shorts   ┆           ┆           ┆           ┆   ┆ sch…      ┆           ┆           ┆          │\n",
       "└───────────┴───────────┴───────────┴───────────┴───┴───────────┴───────────┴───────────┴──────────┘"
      ]
     },
     "execution_count": 12,
     "metadata": {},
     "output_type": "execute_result"
    }
   ],
   "source": [
    "yt_polars.filter(\n",
    "    pl.col('channel_name').str.starts_with('Mr')\n",
    ")"
   ]
  },
  {
   "cell_type": "code",
   "execution_count": 22,
   "metadata": {},
   "outputs": [
    {
     "data": {
      "text/plain": [
       "28943496"
      ]
     },
     "execution_count": 22,
     "metadata": {},
     "output_type": "execute_result"
    }
   ],
   "source": [
    "yt_pandas"
   ]
  },
  {
   "cell_type": "code",
   "execution_count": 20,
   "metadata": {},
   "outputs": [
    {
     "data": {
      "text/plain": [
       "1913.877779006958"
      ]
     },
     "execution_count": 20,
     "metadata": {},
     "output_type": "execute_result"
    }
   ],
   "source": [
    "yt_polars.estimated_size(unit='mb')"
   ]
  },
  {
   "cell_type": "markdown",
   "metadata": {},
   "source": [
    "# Questions??"
   ]
  },
  {
   "cell_type": "code",
   "execution_count": 41,
   "metadata": {},
   "outputs": [],
   "source": [
    "import pandas as pd\n",
    "\n",
    "df = pd.read_csv('data/pokemon_data.csv')"
   ]
  },
  {
   "cell_type": "code",
   "execution_count": 48,
   "metadata": {},
   "outputs": [
    {
     "data": {
      "text/plain": [
       "31"
      ]
     },
     "execution_count": 48,
     "metadata": {},
     "output_type": "execute_result"
    }
   ],
   "source": [
    "out = df[df['Generation']==1]\n",
    "\n",
    "len(out[out['Type 1'] == 'Water'])"
   ]
  },
  {
   "cell_type": "code",
   "execution_count": null,
   "metadata": {},
   "outputs": [],
   "source": []
  },
  {
   "cell_type": "code",
   "execution_count": null,
   "metadata": {},
   "outputs": [],
   "source": []
  },
  {
   "cell_type": "code",
   "execution_count": null,
   "metadata": {},
   "outputs": [],
   "source": []
  },
  {
   "cell_type": "code",
   "execution_count": null,
   "metadata": {},
   "outputs": [],
   "source": []
  },
  {
   "cell_type": "code",
   "execution_count": null,
   "metadata": {},
   "outputs": [],
   "source": []
  },
  {
   "cell_type": "code",
   "execution_count": null,
   "metadata": {},
   "outputs": [],
   "source": []
  },
  {
   "cell_type": "code",
   "execution_count": null,
   "metadata": {},
   "outputs": [],
   "source": []
  }
 ],
 "metadata": {
  "kernelspec": {
   "display_name": "Python 3",
   "language": "python",
   "name": "python3"
  },
  "language_info": {
   "codemirror_mode": {
    "name": "ipython",
    "version": 3
   },
   "file_extension": ".py",
   "mimetype": "text/x-python",
   "name": "python",
   "nbconvert_exporter": "python",
   "pygments_lexer": "ipython3",
   "version": "3.11.7"
  }
 },
 "nbformat": 4,
 "nbformat_minor": 2
}
